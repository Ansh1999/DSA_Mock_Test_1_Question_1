{
 "cells": [
  {
   "cell_type": "code",
   "execution_count": 1,
   "id": "c73c68f0",
   "metadata": {},
   "outputs": [
    {
     "data": {
      "text/plain": [
       "[1, 2, 3, 6, 3, 1, 4, 5, 6, 5, 0, 0, 0, 0, 0, 0, 0, 0, 0, 0, 0, 0]"
      ]
     },
     "execution_count": 1,
     "metadata": {},
     "output_type": "execute_result"
    }
   ],
   "source": [
    "def move_zeroes(l):\n",
    "    count=0\n",
    "    for i in l:\n",
    "        if i!=0:\n",
    "            l[count]=i\n",
    "            count+=1\n",
    "\n",
    "    for i in range(count,len(l)):\n",
    "        l[i]=0\n",
    "    \n",
    "    return l\n",
    "\n",
    "move_zeroes([1,2,0,0,0,3,6,0,0,0,0,0,3,1,4,5,0,0,6,5,0,0])"
   ]
  }
 ],
 "metadata": {
  "kernelspec": {
   "display_name": "Python 3 (ipykernel)",
   "language": "python",
   "name": "python3"
  },
  "language_info": {
   "codemirror_mode": {
    "name": "ipython",
    "version": 3
   },
   "file_extension": ".py",
   "mimetype": "text/x-python",
   "name": "python",
   "nbconvert_exporter": "python",
   "pygments_lexer": "ipython3",
   "version": "3.9.13"
  }
 },
 "nbformat": 4,
 "nbformat_minor": 5
}
